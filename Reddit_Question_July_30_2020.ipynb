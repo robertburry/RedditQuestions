{
 "cells": [
  {
   "cell_type": "code",
   "execution_count": 1,
   "metadata": {},
   "outputs": [],
   "source": [
    "import numpy as np"
   ]
  },
  {
   "cell_type": "code",
   "execution_count": 2,
   "metadata": {},
   "outputs": [],
   "source": [
    "#This defines a factorial and returns it as an integer value\n",
    "def factorial(n):\n",
    "    return int(np.product(range(1,n+1)))"
   ]
  },
  {
   "cell_type": "code",
   "execution_count": 3,
   "metadata": {},
   "outputs": [],
   "source": [
    "#This calculates the exponent needed for this product\n",
    "def expo(n):\n",
    "    return (1/factorial(n))"
   ]
  },
  {
   "cell_type": "code",
   "execution_count": 4,
   "metadata": {},
   "outputs": [],
   "source": [
    "total = 1 #an initialization or the 0th term for the product\n",
    "start = 1\n",
    "end = 65 #should be odd if start is odd\n",
    "#The reason why we go up by 2's in the loop is to avoid 'double counting' in the product. As we are starting with an odd number for the starting point, we need to have an odd number for the end point because the even portions of the formuula are being calculated in the loop. \n",
    "for n in range(start,end,2):\n",
    "    ans = np.power(n,expo(n)) * np.power(n+1,expo(n+1))\n",
    "    total = total*ans"
   ]
  },
  {
   "cell_type": "code",
   "execution_count": 5,
   "metadata": {},
   "outputs": [
    {
     "name": "stdout",
     "output_type": "stream",
     "text": [
      "The solution for the product up to 66 terms is:  1.8290246795635718\n"
     ]
    }
   ],
   "source": [
    "print(\"The solution for the product up to\", end+1, \"terms is: \", total)"
   ]
  }
 ],
 "metadata": {
  "kernelspec": {
   "display_name": "Python 3",
   "language": "python",
   "name": "python3"
  },
  "language_info": {
   "codemirror_mode": {
    "name": "ipython",
    "version": 3
   },
   "file_extension": ".py",
   "mimetype": "text/x-python",
   "name": "python",
   "nbconvert_exporter": "python",
   "pygments_lexer": "ipython3",
   "version": "3.6.6+"
  }
 },
 "nbformat": 4,
 "nbformat_minor": 2
}
